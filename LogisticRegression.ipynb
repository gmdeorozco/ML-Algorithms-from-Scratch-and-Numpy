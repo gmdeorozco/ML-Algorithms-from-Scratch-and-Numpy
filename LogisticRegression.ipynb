{
  "nbformat": 4,
  "nbformat_minor": 0,
  "metadata": {
    "colab": {
      "provenance": [],
      "authorship_tag": "ABX9TyOtPPineSquhTUIO3W9AfxT",
      "include_colab_link": true
    },
    "kernelspec": {
      "name": "python3",
      "display_name": "Python 3"
    },
    "language_info": {
      "name": "python"
    }
  },
  "cells": [
    {
      "cell_type": "markdown",
      "metadata": {
        "id": "view-in-github",
        "colab_type": "text"
      },
      "source": [
        "<a href=\"https://colab.research.google.com/github/gmdeorozco/ML-Algorithms-from-Scratch-and-Numpy/blob/main/LogisticRegression.ipynb\" target=\"_parent\"><img src=\"https://colab.research.google.com/assets/colab-badge.svg\" alt=\"Open In Colab\"/></a>"
      ]
    },
    {
      "cell_type": "code",
      "execution_count": null,
      "metadata": {
        "id": "tWgHqvBrILbq"
      },
      "outputs": [],
      "source": [
        "import numpy as np\n",
        "\n",
        "def sigmoid(z):\n",
        "    \"\"\"Sigmoid activation function.\"\"\"\n",
        "    return 1 / (1 + np.exp(-z))\n"
      ]
    },
    {
      "cell_type": "code",
      "source": [
        "def logistic_regression(X, y, learning_rate=0.01, num_iterations=1000):\n",
        "    \"\"\"Perform logistic regression using gradient descent.\"\"\"\n",
        "    m, n = X.shape\n",
        "    theta = np.zeros((n, 1))  # Initialize theta with zeros\n",
        "\n",
        "    for _ in range(num_iterations):\n",
        "        # Compute hypothesis and gradient\n",
        "        z = np.dot(X, theta)  # Compute the linear combination of features and theta parameters\n",
        "        h = sigmoid(z)  # Apply the sigmoid activation function to obtain the predicted probabilities\n",
        "        gradient = np.dot(X.T, (h - y)) / m  # Compute the gradient of the cost function\n",
        "\n",
        "        # Update theta\n",
        "        theta -= learning_rate * gradient  # Update the theta parameters using the gradient and learning rate\n",
        "\n",
        "    return theta\n",
        "\n"
      ],
      "metadata": {
        "id": "NGUc2XnIIt8A"
      },
      "execution_count": null,
      "outputs": []
    },
    {
      "cell_type": "code",
      "source": [
        "\n",
        "# Example usage\n",
        "X = np.array([[1, 2], [3, 4], [5, 6]])  # Input features\n",
        "y = np.array([[0], [0], [1]])  # Target values\n",
        "\n",
        "# Add intercept term to X\n",
        "X = np.hstack((np.ones((X.shape[0], 1)), X))  # Add a column of ones as the intercept term\n",
        "\n",
        "# Perform logistic regression\n",
        "theta = logistic_regression(X, y)  # Learn the theta parameters\n",
        "\n",
        "print(\"Theta:\", theta)"
      ],
      "metadata": {
        "colab": {
          "base_uri": "https://localhost:8080/"
        },
        "id": "3A7JMmcyI4bN",
        "outputId": "21934d45-569f-45ea-d509-3507699df5d3"
      },
      "execution_count": null,
      "outputs": [
        {
          "output_type": "stream",
          "name": "stdout",
          "text": [
            "Theta: [[-1.34025004]\n",
            " [ 0.91364762]\n",
            " [-0.42660242]]\n"
          ]
        }
      ]
    },
    {
      "cell_type": "code",
      "source": [
        "# Preprocess the input\n",
        "input_example = np.array([4, 3])\n",
        "input_example = np.insert(input_example, 0, 1)  # Add intercept term\n",
        "\n",
        "# Apply the learned theta parameters\n",
        "z = np.dot(input_example, theta)\n",
        "predicted_prob = sigmoid(z)\n",
        "\n",
        "# Make a binary classification decision\n",
        "threshold = 0.5\n",
        "predicted_class = 1 if predicted_prob >= threshold else 0\n",
        "\n",
        "print(\"Predicted Probability:\", predicted_prob)\n",
        "print(\"Predicted Class:\", predicted_class)\n"
      ],
      "metadata": {
        "colab": {
          "base_uri": "https://localhost:8080/"
        },
        "id": "MpRlbdv_MfvL",
        "outputId": "0fbb30ed-5680-45fe-fce9-002cb8402217"
      },
      "execution_count": null,
      "outputs": [
        {
          "output_type": "stream",
          "name": "stdout",
          "text": [
            "Predicted Probability: [0.7377938]\n",
            "Predicted Class: 1\n"
          ]
        }
      ]
    },
    {
      "cell_type": "code",
      "source": [],
      "metadata": {
        "id": "tOZoqc2WMhWR"
      },
      "execution_count": null,
      "outputs": []
    }
  ]
}